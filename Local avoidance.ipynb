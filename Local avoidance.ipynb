{
 "cells": [
  {
   "cell_type": "code",
   "execution_count": 1,
   "id": "15f8aed6",
   "metadata": {},
   "outputs": [
    {
     "name": "stdout",
     "output_type": "stream",
     "text": [
      "Requirement already satisfied: tdmclient in c:\\users\\malik\\appdata\\local\\programs\\python\\python39\\lib\\site-packages (0.1.11)\n",
      "Requirement already satisfied: zeroconf in c:\\users\\malik\\appdata\\local\\programs\\python\\python39\\lib\\site-packages (from tdmclient) (0.36.7)\n",
      "Requirement already satisfied: ifaddr>=0.1.7 in c:\\users\\malik\\appdata\\local\\programs\\python\\python39\\lib\\site-packages (from zeroconf->tdmclient) (0.1.7)\n",
      "Note: you may need to restart the kernel to use updated packages.\n"
     ]
    }
   ],
   "source": [
    "%pip install --upgrade tdmclient"
   ]
  },
  {
   "cell_type": "code",
   "execution_count": 2,
   "id": "09bd9944",
   "metadata": {},
   "outputs": [],
   "source": [
    "# Import tdmclient Notebook environment:\n",
    "import tdmclient.notebook\n",
    "await tdmclient.notebook.start()"
   ]
  },
  {
   "cell_type": "markdown",
   "id": "a606f3e9",
   "metadata": {},
   "source": [
    "Run les 2 cellules suivantes pour vérifier que le robot roule droit et checker qu'il est pas bourré comme le mien..."
   ]
  },
  {
   "cell_type": "code",
   "execution_count": 3,
   "id": "8e82d0f1",
   "metadata": {},
   "outputs": [],
   "source": [
    "motor_left_target = 50\n",
    "motor_right_target = 50"
   ]
  },
  {
   "cell_type": "code",
   "execution_count": 4,
   "id": "f74f351d",
   "metadata": {},
   "outputs": [],
   "source": [
    "motor_left_target = 0\n",
    "motor_right_target = 0"
   ]
  },
  {
   "cell_type": "markdown",
   "id": "a608187f",
   "metadata": {},
   "source": [
    "Run ce programme pour faire la local obstacle avoidance"
   ]
  },
  {
   "cell_type": "code",
   "execution_count": 5,
   "id": "b499fb78",
   "metadata": {},
   "outputs": [
    {
     "ename": "Exception",
     "evalue": "Infinite loops not allowed",
     "output_type": "error",
     "traceback": [
      "\u001b[1;31m---------------------------------------------------------------------------\u001b[0m",
      "\u001b[1;31mException\u001b[0m                                 Traceback (most recent call last)",
      "\u001b[1;32m~\\AppData\\Local\\Temp/ipykernel_9192/4050922227.py\u001b[0m in \u001b[0;36m<module>\u001b[1;34m\u001b[0m\n\u001b[1;32m----> 1\u001b[1;33m \u001b[0mget_ipython\u001b[0m\u001b[1;33m(\u001b[0m\u001b[1;33m)\u001b[0m\u001b[1;33m.\u001b[0m\u001b[0mrun_cell_magic\u001b[0m\u001b[1;33m(\u001b[0m\u001b[1;34m'run_python'\u001b[0m\u001b[1;33m,\u001b[0m \u001b[1;34m'--wait'\u001b[0m\u001b[1;33m,\u001b[0m \u001b[1;34m\"\\n#global variable\\nobstacle = False\\nwhile(1):\\n    if obstacle == True:\\n        print('coucou l obstacle')\\n\\nspeed0 = 50       # nominal speed\\nobstThrL = 10      # low obstacle threshold to switch state 1->0\\nobstThrH = 20      # high obstacle threshold to switch state 0->1\\nobstSpeedGain = 5  # /100 (actual gain: 5/100=0.05)\\n\\nstate = 0          # 0= go to goal, 1=obstacle avoidance\\nobst = [0,0]            # measurements from left and right prox sensors\\n\\ntimer_period[0] = 10   # 10ms sampling time\\n\\nproxsens1 = 0   #proximity sensor 1\\nproxsens5 = 4   #proximity sensor 2\\nstatego2goal = 0\\nstateobstavoid = 1\\n\\n@onevent \\ndef timer0():\\n    global prox_horizontal, motor_left_target, motor_right_target, state, obst, obstThrH, obstThrL, obstSpeedGain, speed0, speedGain \\n    # acquisition from the proximity sensors to detect obstacles\\n    obst = [prox_horizontal[proxsens1], prox_horizontal[proxsens5]]\\n\\n    # tdmclient does not support yet multiple and/or in if statements:\\n    if state == statego2goal: \\n        # switch from goal tracking to obst avoidance if obstacle detected\\n        if (obst[0] > obstThrH):\\n            state = 1\\n        elif (obst[1] > obstThrH):\\n            state = 1\\n    elif state == stateobstavoid:\\n        if obst[0] < obstThrL:\\n            if obst[1] < obstThrL : \\n                # switch from obst avoidance to goal tracking if obstacle got unseen\\n                state = 0\\n    if  state == stateobstavoid:\\n        leds_top = [30,30,30]\\n        # obstacle avoidance: accelerate wheel near obstacle\\n        motor_left_target = speed0 + obstSpeedGain * (obst[0] // 100)\\n        motor_right_target = speed0 + obstSpeedGain * (obst[1] // 100)\\n    elif state == statego2goal:\\n        # goal tracking: turn toward the goal\\n        leds_top = [0,0,0]\\n        motor_left_target = 100\\n        motor_right_target = 100\\n\\n        \\n\"\u001b[0m\u001b[1;33m)\u001b[0m\u001b[1;33m\u001b[0m\u001b[1;33m\u001b[0m\u001b[0m\n\u001b[0m",
      "\u001b[1;32m~\\AppData\\Local\\Programs\\Python\\Python39\\lib\\site-packages\\IPython\\core\\interactiveshell.py\u001b[0m in \u001b[0;36mrun_cell_magic\u001b[1;34m(self, magic_name, line, cell)\u001b[0m\n\u001b[0;32m   2404\u001b[0m             \u001b[1;32mwith\u001b[0m \u001b[0mself\u001b[0m\u001b[1;33m.\u001b[0m\u001b[0mbuiltin_trap\u001b[0m\u001b[1;33m:\u001b[0m\u001b[1;33m\u001b[0m\u001b[1;33m\u001b[0m\u001b[0m\n\u001b[0;32m   2405\u001b[0m                 \u001b[0margs\u001b[0m \u001b[1;33m=\u001b[0m \u001b[1;33m(\u001b[0m\u001b[0mmagic_arg_s\u001b[0m\u001b[1;33m,\u001b[0m \u001b[0mcell\u001b[0m\u001b[1;33m)\u001b[0m\u001b[1;33m\u001b[0m\u001b[1;33m\u001b[0m\u001b[0m\n\u001b[1;32m-> 2406\u001b[1;33m                 \u001b[0mresult\u001b[0m \u001b[1;33m=\u001b[0m \u001b[0mfn\u001b[0m\u001b[1;33m(\u001b[0m\u001b[1;33m*\u001b[0m\u001b[0margs\u001b[0m\u001b[1;33m,\u001b[0m \u001b[1;33m**\u001b[0m\u001b[0mkwargs\u001b[0m\u001b[1;33m)\u001b[0m\u001b[1;33m\u001b[0m\u001b[1;33m\u001b[0m\u001b[0m\n\u001b[0m\u001b[0;32m   2407\u001b[0m             \u001b[1;32mreturn\u001b[0m \u001b[0mresult\u001b[0m\u001b[1;33m\u001b[0m\u001b[1;33m\u001b[0m\u001b[0m\n\u001b[0;32m   2408\u001b[0m \u001b[1;33m\u001b[0m\u001b[0m\n",
      "\u001b[1;32m~\\AppData\\Local\\Programs\\Python\\Python39\\lib\\site-packages\\tdmclient\\notebook\\__init__.py\u001b[0m in \u001b[0;36mrun_python\u001b[1;34m(line, cell)\u001b[0m\n\u001b[0;32m    195\u001b[0m         \u001b[0m_interactive_console\u001b[0m\u001b[1;33m.\u001b[0m\u001b[0mclear_event_data\u001b[0m\u001b[1;33m(\u001b[0m\u001b[1;33m)\u001b[0m\u001b[1;33m\u001b[0m\u001b[1;33m\u001b[0m\u001b[0m\n\u001b[0;32m    196\u001b[0m     \u001b[1;32mtry\u001b[0m\u001b[1;33m:\u001b[0m\u001b[1;33m\u001b[0m\u001b[1;33m\u001b[0m\u001b[0m\n\u001b[1;32m--> 197\u001b[1;33m         \u001b[0m_interactive_console\u001b[0m\u001b[1;33m.\u001b[0m\u001b[0mrun_program\u001b[0m\u001b[1;33m(\u001b[0m\u001b[0mcell\u001b[0m\u001b[1;33m,\u001b[0m \u001b[1;34m\"python\"\u001b[0m\u001b[1;33m,\u001b[0m \u001b[0mwait\u001b[0m\u001b[1;33m=\u001b[0m\u001b[0mwait\u001b[0m\u001b[1;33m,\u001b[0m \u001b[0mimport_thymio\u001b[0m\u001b[1;33m=\u001b[0m\u001b[0mimport_thymio\u001b[0m\u001b[1;33m)\u001b[0m\u001b[1;33m\u001b[0m\u001b[1;33m\u001b[0m\u001b[0m\n\u001b[0m\u001b[0;32m    198\u001b[0m     \u001b[1;32mexcept\u001b[0m \u001b[0mKeyboardInterrupt\u001b[0m\u001b[1;33m:\u001b[0m\u001b[1;33m\u001b[0m\u001b[1;33m\u001b[0m\u001b[0m\n\u001b[0;32m    199\u001b[0m         \u001b[1;31m# avoid long exception message with stack trace\u001b[0m\u001b[1;33m\u001b[0m\u001b[1;33m\u001b[0m\u001b[0m\n",
      "\u001b[1;32m~\\AppData\\Local\\Programs\\Python\\Python39\\lib\\site-packages\\tdmclient\\repl.py\u001b[0m in \u001b[0;36mrun_program\u001b[1;34m(self, src, language, wait, import_thymio)\u001b[0m\n\u001b[0;32m    353\u001b[0m         \u001b[0merror\u001b[0m \u001b[1;33m=\u001b[0m \u001b[0mClientAsync\u001b[0m\u001b[1;33m.\u001b[0m\u001b[0maw\u001b[0m\u001b[1;33m(\u001b[0m\u001b[0mself\u001b[0m\u001b[1;33m.\u001b[0m\u001b[0mnode\u001b[0m\u001b[1;33m.\u001b[0m\u001b[0mcompile\u001b[0m\u001b[1;33m(\u001b[0m\u001b[0msrc\u001b[0m\u001b[1;33m)\u001b[0m\u001b[1;33m)\u001b[0m\u001b[1;33m\u001b[0m\u001b[1;33m\u001b[0m\u001b[0m\n\u001b[0;32m    354\u001b[0m         \u001b[1;32mif\u001b[0m \u001b[0merror\u001b[0m \u001b[1;32mis\u001b[0m \u001b[1;32mnot\u001b[0m \u001b[1;32mNone\u001b[0m\u001b[1;33m:\u001b[0m\u001b[1;33m\u001b[0m\u001b[1;33m\u001b[0m\u001b[0m\n\u001b[1;32m--> 355\u001b[1;33m             \u001b[1;32mraise\u001b[0m \u001b[0mException\u001b[0m\u001b[1;33m(\u001b[0m\u001b[0merror\u001b[0m\u001b[1;33m[\u001b[0m\u001b[1;34m\"error_msg\"\u001b[0m\u001b[1;33m]\u001b[0m\u001b[1;33m)\u001b[0m\u001b[1;33m\u001b[0m\u001b[1;33m\u001b[0m\u001b[0m\n\u001b[0m\u001b[0;32m    356\u001b[0m         \u001b[0mself\u001b[0m\u001b[1;33m.\u001b[0m\u001b[0mclient\u001b[0m\u001b[1;33m.\u001b[0m\u001b[0mclear_event_received_listeners\u001b[0m\u001b[1;33m(\u001b[0m\u001b[1;33m)\u001b[0m\u001b[1;33m\u001b[0m\u001b[1;33m\u001b[0m\u001b[0m\n\u001b[0;32m    357\u001b[0m         \u001b[0mexit_received\u001b[0m \u001b[1;33m=\u001b[0m \u001b[1;32mNone\u001b[0m  \u001b[1;31m# or exit code once received\u001b[0m\u001b[1;33m\u001b[0m\u001b[1;33m\u001b[0m\u001b[0m\n",
      "\u001b[1;31mException\u001b[0m: Infinite loops not allowed"
     ]
    }
   ],
   "source": [
    "%%run_python --wait\n",
    "\n",
    "\n",
    "speed0 = 50       # nominal speed\n",
    "obstThrL = 10      # low obstacle threshold to switch state 1->0\n",
    "obstThrH = 20      # high obstacle threshold to switch state 0->1\n",
    "obstSpeedGain = 5  # /100 (actual gain: 5/100=0.05)\n",
    "\n",
    "state = 0          # 0= go to goal, 1=obstacle avoidance\n",
    "obst = [0,0]            # measurements from left and right prox sensors\n",
    "\n",
    "timer_period[0] = 10   # 10ms sampling time\n",
    "\n",
    "proxsens1 = 0   #proximity sensor 1\n",
    "proxsens5 = 4   #proximity sensor 2\n",
    "go2goal = 0\n",
    "obstavoid = 1\n",
    "\n",
    "@onevent \n",
    "def timer0():\n",
    "    global prox_horizontal, motor_left_target, motor_right_target, state, obst, obstThrH, obstThrL, obstSpeedGain, speed0, speedGain \n",
    "    # acquisition from the proximity sensors to detect obstacles\n",
    "    obst = [prox_horizontal[proxsens1], prox_horizontal[proxsens5]]\n",
    "\n",
    "    # tdmclient does not support yet multiple and/or in if statements:\n",
    "    if state == go2goal: \n",
    "        # switch from goal tracking to obst avoidance if obstacle detected\n",
    "        if (obst[0] > obstThrH) or (obst[1] > obstThrH):\n",
    "            state = 1\n",
    "            \n",
    "    elif state == obstavoid:\n",
    "        if (obst[0] < obstThrL) and (obst[1] < obstThrL):\n",
    "            # switch from obst avoidance to goal tracking if obstacle got unseen\n",
    "            state = 0\n",
    "                \n",
    "    if  state == obstavoid:\n",
    "        leds_top = [30,30,30]\n",
    "        # obstacle avoidance: accelerate wheel near obstacle\n",
    "        motor_left_target = speed0 + obstSpeedGain * (obst[0] // 100)\n",
    "        motor_right_target = speed0 + obstSpeedGain * (obst[1] // 100)\n",
    "        \n",
    "    elif state == go2goal:\n",
    "        # goal tracking: turn toward the goal\n",
    "        leds_top = [0,0,0]\n",
    "        motor_left_target = 100\n",
    "        motor_right_target = 100\n",
    "\n",
    "        "
   ]
  },
  {
   "cell_type": "code",
   "execution_count": null,
   "id": "c3c99366",
   "metadata": {},
   "outputs": [],
   "source": []
  }
 ],
 "metadata": {
  "kernelspec": {
   "display_name": "Python 3 (ipykernel)",
   "language": "python",
   "name": "python3"
  },
  "language_info": {
   "codemirror_mode": {
    "name": "ipython",
    "version": 3
   },
   "file_extension": ".py",
   "mimetype": "text/x-python",
   "name": "python",
   "nbconvert_exporter": "python",
   "pygments_lexer": "ipython3",
   "version": "3.9.7"
  },
  "toc": {
   "base_numbering": 1,
   "nav_menu": {},
   "number_sections": true,
   "sideBar": true,
   "skip_h1_title": false,
   "title_cell": "Table of Contents",
   "title_sidebar": "Contents",
   "toc_cell": false,
   "toc_position": {},
   "toc_section_display": true,
   "toc_window_display": false
  }
 },
 "nbformat": 4,
 "nbformat_minor": 5
}
