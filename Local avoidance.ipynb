{
 "cells": [
  {
   "cell_type": "code",
   "execution_count": 5,
   "id": "15f8aed6",
   "metadata": {},
   "outputs": [
    {
     "name": "stdout",
     "output_type": "stream",
     "text": [
      "Requirement already satisfied: tdmclient in c:\\users\\ision\\appdata\\local\\programs\\python\\python39\\lib\\site-packages (0.1.11)\n",
      "Requirement already satisfied: zeroconf in c:\\users\\ision\\appdata\\local\\programs\\python\\python39\\lib\\site-packages (from tdmclient) (0.36.9)\n",
      "Requirement already satisfied: ifaddr>=0.1.7 in c:\\users\\ision\\appdata\\local\\programs\\python\\python39\\lib\\site-packages (from zeroconf->tdmclient) (0.1.7)\n",
      "Note: you may need to restart the kernel to use updated packages.\n"
     ]
    }
   ],
   "source": [
    "%pip install --upgrade tdmclient"
   ]
  },
  {
   "cell_type": "code",
   "execution_count": 1,
   "id": "09bd9944",
   "metadata": {},
   "outputs": [],
   "source": [
    "# Import tdmclient Notebook environment:\n",
    "import tdmclient.notebook\n",
    "await tdmclient.notebook.start()"
   ]
  },
  {
   "cell_type": "markdown",
   "id": "a606f3e9",
   "metadata": {},
   "source": [
    "Run les 2 cellules suivantes pour vérifier que le robot roule droit et checker qu'il est pas bourré comme le mien..."
   ]
  },
  {
   "cell_type": "code",
   "execution_count": 4,
   "id": "8e82d0f1",
   "metadata": {},
   "outputs": [],
   "source": [
    "motor_left_target = 50\n",
    "motor_right_target = 50"
   ]
  },
  {
   "cell_type": "code",
   "execution_count": 6,
   "id": "f74f351d",
   "metadata": {},
   "outputs": [],
   "source": [
    "motor_left_target = 0\n",
    "motor_right_target = 0"
   ]
  },
  {
   "cell_type": "markdown",
   "id": "a608187f",
   "metadata": {},
   "source": [
    "Run ce programme pour faire la local obstacle avoidance"
   ]
  },
  {
   "cell_type": "code",
   "execution_count": null,
   "id": "b499fb78",
   "metadata": {},
   "outputs": [],
   "source": [
    "%%run_python --wait\n",
    "\n",
    "#global variable\n",
    "obstacle = False\n",
    "while(1):\n",
    "    if obstacle == True:\n",
    "        print('coucou l obstacle')\n",
    "\n",
    "speed0 = 50       # nominal speed\n",
    "obstThrL = 10      # low obstacle threshold to switch state 1->0\n",
    "obstThrH = 20      # high obstacle threshold to switch state 0->1\n",
    "obstSpeedGain = 5  # /100 (actual gain: 5/100=0.05)\n",
    "\n",
    "state = 0          # 0= go to goal, 1=obstacle avoidance\n",
    "obst = [0,0]            # measurements from left and right prox sensors\n",
    "\n",
    "timer_period[0] = 10   # 10ms sampling time\n",
    "\n",
    "proxsens1 = 0   #proximity sensor 1\n",
    "proxsens5 = 4   #proximity sensor 2\n",
    "statego2goal = 0\n",
    "stateobstavoid = 1\n",
    "\n",
    "@onevent \n",
    "def timer0():\n",
    "    global prox_horizontal, motor_left_target, motor_right_target, state, obst, obstThrH, obstThrL, obstSpeedGain, speed0, speedGain \n",
    "    # acquisition from the proximity sensors to detect obstacles\n",
    "    obst = [prox_horizontal[proxsens1], prox_horizontal[proxsens5]]\n",
    "\n",
    "    # tdmclient does not support yet multiple and/or in if statements:\n",
    "    if state == statego2goal: \n",
    "        # switch from goal tracking to obst avoidance if obstacle detected\n",
    "        if (obst[0] > obstThrH):\n",
    "            state = 1\n",
    "        elif (obst[1] > obstThrH):\n",
    "            state = 1\n",
    "    elif state == stateobstavoid:\n",
    "        if obst[0] < obstThrL:\n",
    "            if obst[1] < obstThrL : \n",
    "                # switch from obst avoidance to goal tracking if obstacle got unseen\n",
    "                state = 0\n",
    "    if  state == stateobstavoid:\n",
    "        leds_top = [30,30,30]\n",
    "        # obstacle avoidance: accelerate wheel near obstacle\n",
    "        motor_left_target = speed0 + obstSpeedGain * (obst[0] // 100)\n",
    "        motor_right_target = speed0 + obstSpeedGain * (obst[1] // 100)\n",
    "    elif state == statego2goal:\n",
    "        # goal tracking: turn toward the goal\n",
    "        leds_top = [0,0,0]\n",
    "        motor_left_target = 100\n",
    "        motor_right_target = 100\n",
    "\n",
    "        "
   ]
  },
  {
   "cell_type": "code",
   "execution_count": null,
   "id": "c3c99366",
   "metadata": {},
   "outputs": [],
   "source": []
  }
 ],
 "metadata": {
  "kernelspec": {
   "display_name": "Python 3 (ipykernel)",
   "language": "python",
   "name": "python3"
  },
  "language_info": {
   "codemirror_mode": {
    "name": "ipython",
    "version": 3
   },
   "file_extension": ".py",
   "mimetype": "text/x-python",
   "name": "python",
   "nbconvert_exporter": "python",
   "pygments_lexer": "ipython3",
   "version": "3.9.7"
  },
  "toc": {
   "base_numbering": 1,
   "nav_menu": {},
   "number_sections": true,
   "sideBar": true,
   "skip_h1_title": false,
   "title_cell": "Table of Contents",
   "title_sidebar": "Contents",
   "toc_cell": false,
   "toc_position": {},
   "toc_section_display": true,
   "toc_window_display": false
  }
 },
 "nbformat": 4,
 "nbformat_minor": 5
}
