{
 "cells": [
  {
   "cell_type": "code",
   "execution_count": null,
   "id": "edcdf7f5",
   "metadata": {},
   "outputs": [],
   "source": [
    "if get_prox == False\n",
    "    state = 0\n",
    "\n",
    "if get_prox == True\n",
    "    state = 1"
   ]
  },
  {
   "cell_type": "code",
   "execution_count": null,
   "id": "0ff41c1a",
   "metadata": {},
   "outputs": [],
   "source": [
    "# Main -> state machine\n",
    "\n",
    "obstacle = False\n",
    "\n",
    "while(1):\n",
    "    if shortest_path() == False:\n",
    "        state = 0\n",
    "\n",
    "\n",
    "    # robot run    \n",
    "    elif shortest_path() == True:\n",
    "        state = 1\n",
    "        \n",
    "    obstacle = check_obstacle(prox_horizontal)\n",
    "    \n",
    "        # global navigation\n",
    "        if  obstacle == False:\n",
    "            motion_control\n",
    "\n",
    "        # local navigation\n",
    "        elif obstacle == True:\n",
    "            \n",
    "            \n",
    "        \n",
    "    "
   ]
  },
  {
   "cell_type": "code",
   "execution_count": null,
   "id": "b1cae5a4",
   "metadata": {},
   "outputs": [],
   "source": [
    "OBSTACLE_THRESHOLD 10\n",
    "\n",
    "def check_obstacle(prox_horizontal):\n",
    "    prox_values = [prox_horizontal[0], prox_horizontal[4]]\n",
    "    if prox_values[0] > OBSTACLE_THRESHOLD or prox_values[1] > OBSTACLE_THRESHOLD:\n",
    "        obstacle = True\n",
    "        \n",
    "    else:\n",
    "        obstacle = False\n",
    "        \n",
    "        \n",
    "    "
   ]
  }
 ],
 "metadata": {
  "kernelspec": {
   "display_name": "Python 3 (ipykernel)",
   "language": "python",
   "name": "python3"
  },
  "language_info": {
   "codemirror_mode": {
    "name": "ipython",
    "version": 3
   },
   "file_extension": ".py",
   "mimetype": "text/x-python",
   "name": "python",
   "nbconvert_exporter": "python",
   "pygments_lexer": "ipython3",
   "version": "3.9.7"
  }
 },
 "nbformat": 4,
 "nbformat_minor": 5
}
