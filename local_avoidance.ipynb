{
 "cells": [
  {
   "cell_type": "code",
   "execution_count": null,
   "id": "15f8aed6",
   "metadata": {},
   "outputs": [],
   "source": [
    "%pip install --upgrade tdmclient"
   ]
  },
  {
   "cell_type": "code",
   "execution_count": 5,
   "id": "09bd9944",
   "metadata": {},
   "outputs": [],
   "source": [
    "# Import tdmclient Notebook environment:\n",
    "import tdmclient.notebook\n",
    "await tdmclient.notebook.start()"
   ]
  },
  {
   "cell_type": "markdown",
   "id": "a606f3e9",
   "metadata": {},
   "source": [
    "Run les 2 cellules suivantes pour vérifier que le robot roule droit et checker qu'il est pas bourré comme le mien..."
   ]
  },
  {
   "cell_type": "code",
   "execution_count": 6,
   "id": "8e82d0f1",
   "metadata": {},
   "outputs": [],
   "source": [
    "motor_left_target = 55\n",
    "motor_right_target = 55"
   ]
  },
  {
   "cell_type": "code",
   "execution_count": 7,
   "id": "f74f351d",
   "metadata": {},
   "outputs": [],
   "source": [
    "motor_left_target = 0\n",
    "motor_right_target = 0"
   ]
  },
  {
   "cell_type": "markdown",
   "id": "a608187f",
   "metadata": {},
   "source": [
    "Run ce programme pour faire la local obstacle avoidance"
   ]
  },
  {
   "cell_type": "code",
   "execution_count": null,
   "id": "b499fb78",
   "metadata": {},
   "outputs": [
    {
     "name": "stderr",
     "output_type": "stream",
     "text": [
      "Exception in thread Exception in thread Thread-11:\n",
      "Traceback (most recent call last):\n",
      "  File \"C:\\Users\\ision\\AppData\\Local\\Programs\\Python\\Python39\\lib\\threading.py\", line 973, in _bootstrap_inner\n",
      "Thread-9:\n",
      "Traceback (most recent call last):\n",
      "  File \"C:\\Users\\ision\\AppData\\Local\\Programs\\Python\\Python39\\lib\\threading.py\", line 973, in _bootstrap_inner\n",
      "    self.run()\n",
      "  File \"C:\\Users\\ision\\AppData\\Local\\Programs\\Python\\Python39\\lib\\site-packages\\tdmclient\\tcp.py\", line 65, in run\n",
      "    self.run()\n",
      "  File \"C:\\Users\\ision\\AppData\\Local\\Programs\\Python\\Python39\\lib\\site-packages\\tdmclient\\tcp.py\", line 65, in run\n",
      "    packet = self.read_packet()\n",
      "  File \"C:\\Users\\ision\\AppData\\Local\\Programs\\Python\\Python39\\lib\\site-packages\\tdmclient\\tcp.py\", line 58, in read_packet\n",
      "    packet = self.read_packet()\n",
      "  File \"C:\\Users\\ision\\AppData\\Local\\Programs\\Python\\Python39\\lib\\site-packages\\tdmclient\\tcp.py\", line 58, in read_packet\n",
      "    raise error\n",
      "  File \"C:\\Users\\ision\\AppData\\Local\\Programs\\Python\\Python39\\lib\\site-packages\\tdmclient\\tcp.py\", line 53, in read_packet\n",
      "        raise error\n",
      "  File \"C:\\Users\\ision\\AppData\\Local\\Programs\\Python\\Python39\\lib\\site-packages\\tdmclient\\tcp.py\", line 53, in read_packet\n",
      "packet_len = self.read_uint32()\n",
      "  File \"C:\\Users\\ision\\AppData\\Local\\Programs\\Python\\Python39\\lib\\site-packages\\tdmclient\\tcp.py\", line 40, in read_uint32\n",
      "    packet_len = self.read_uint32()\n",
      "  File \"C:\\Users\\ision\\AppData\\Local\\Programs\\Python\\Python39\\lib\\site-packages\\tdmclient\\tcp.py\", line 40, in read_uint32\n",
      "    b = self.io.read(4)\n",
      "  File \"C:\\Users\\ision\\AppData\\Local\\Programs\\Python\\Python39\\lib\\site-packages\\tdmclient\\tcp.py\", line 92, in read\n",
      "    b = self.io.read(4)\n",
      "  File \"C:\\Users\\ision\\AppData\\Local\\Programs\\Python\\Python39\\lib\\site-packages\\tdmclient\\tcp.py\", line 92, in read\n",
      "    return self.socket.recv(n)\n",
      "ConnectionResetError: [WinError 10054] Une connexion existante a dû être fermée par l’hôte distant\n",
      "    return self.socket.recv(n)\n",
      "ConnectionResetError: [WinError 10054] Une connexion existante a dû être fermée par l’hôte distant\n"
     ]
    }
   ],
   "source": [
    "%%run_python --wait\n",
    "\n",
    "SPEED0 = 50       # nominal speed\n",
    "OBST_THR_L = 10      # low obstacle threshold to switch state 1->0\n",
    "OBST_THR_H= 20      # high obstacle threshold to switch state 0->1\n",
    "OBST_SPEED_GAIN = 10  # /100 (actual gain: 5/100=0.05)\n",
    "SENSOR_SCALE = 200  # Scale factors for sensors\n",
    "\n",
    "state = 0          # 0= go to goal, 1=obstacle avoidance\n",
    "obst = [0,0,0,0,0]   # measurements from the 2 left and the 2 right prox sensors\n",
    "\n",
    "timer_period[0] = 10   # 10ms sampling time\n",
    "\n",
    "proxsens1 = 0   #proximity sensor 1\n",
    "proxsens2 = 1   #proximity sensor 2\n",
    "proxsens3 = 2   #proximity sensor 3\n",
    "proxsens4 = 3   #proximity sensor 4\n",
    "proxsens5 = 4   #proximity sensor 5\n",
    "\n",
    "statego2goal = 0\n",
    "stateobstavoid = 1\n",
    " \n",
    "\n",
    "@onevent \n",
    "def timer0():\n",
    "    global prox_horizontal, motor_left_target, motor_right_target, state, obst, obstThrH, obstThrL, obstSpeedGain, speed0, speedGain, motor_right_speed, motor_left_speed\n",
    "    # acquisition from the proximity sensors to detect obstacles\n",
    "    obst = [prox_horizontal[proxsens1], prox_horizontal[proxsens2], prox_horizontal[proxsens3], prox_horizontal[proxsens4], prox_horizontal[proxsens5]]\n",
    "    mean_obst_left = (obst[0] + obst[1])//2\n",
    "    mean_obst_right = (obst[3] + obst[4])//2\n",
    "    obst_front = obst[2]\n",
    "\n",
    "    # tdmclient does not support yet multiple and/or in if statements:\n",
    "    if state == statego2goal: \n",
    "        # switch from goal tracking to obst avoidance if obstacle detected\n",
    "        if mean_obst_right > OBST_THR_H:\n",
    "            state = 1\n",
    "        elif mean_obst_left > OBST_THR_H:\n",
    "            state = 1\n",
    "    elif state == stateobstavoid:\n",
    "        if  mean_obst_right < OBST_THR_L:\n",
    "            if mean_obst_left < OBST_THR_L: \n",
    "                # switch from obst avoidance to goal tracking if obstacle got unseen\n",
    "                state = 0\n",
    "                \n",
    "    if  state == stateobstavoid:\n",
    "        # obstacle avoidance: accelerate wheel near obstacle\n",
    "        obst_in_front = 1\n",
    "        \n",
    "        if (abs(motor_left_speed - motor_right_speed) < 50):\n",
    "            if obst_front > 500:\n",
    "                motor_left_target = -150\n",
    "                motor_right_target = 150\n",
    "            else:\n",
    "                obst_in_front = 0\n",
    "                 \n",
    "        if obst_in_front==0:\n",
    "            motor_left_target = SPEED0 + OBST_SPEED_GAIN * ( mean_obst_left // 100)\n",
    "            motor_right_target = SPEED0 + OBST_SPEED_GAIN * ( mean_obst_right // 100)\n",
    "            \n",
    "    elif state == statego2goal:\n",
    "        \n",
    "        motor_left_target = 200\n",
    "        motor_right_target = 200\n",
    "\n",
    "        "
   ]
  },
  {
   "cell_type": "code",
   "execution_count": null,
   "id": "3a977f3f",
   "metadata": {},
   "outputs": [],
   "source": [
    "await tdmclient.notebook.stop()   "
   ]
  },
  {
   "cell_type": "code",
   "execution_count": null,
   "id": "807ca81a",
   "metadata": {},
   "outputs": [],
   "source": []
  }
 ],
 "metadata": {
  "kernelspec": {
   "display_name": "Python 3 (ipykernel)",
   "language": "python",
   "name": "python3"
  },
  "language_info": {
   "codemirror_mode": {
    "name": "ipython",
    "version": 3
   },
   "file_extension": ".py",
   "mimetype": "text/x-python",
   "name": "python",
   "nbconvert_exporter": "python",
   "pygments_lexer": "ipython3",
   "version": "3.9.7"
  },
  "toc": {
   "base_numbering": 1,
   "nav_menu": {},
   "number_sections": true,
   "sideBar": true,
   "skip_h1_title": false,
   "title_cell": "Table of Contents",
   "title_sidebar": "Contents",
   "toc_cell": false,
   "toc_position": {},
   "toc_section_display": true,
   "toc_window_display": false
  }
 },
 "nbformat": 4,
 "nbformat_minor": 5
}
